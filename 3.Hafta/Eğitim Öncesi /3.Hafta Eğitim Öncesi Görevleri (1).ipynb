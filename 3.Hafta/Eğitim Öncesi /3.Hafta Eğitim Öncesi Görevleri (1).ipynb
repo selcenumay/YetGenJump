{
  "cells": [
    {
      "cell_type": "markdown",
      "metadata": {
        "id": "tsD4YVAe_Te2"
      },
      "source": [
        "# Problem 1\n",
        "Bir sayının 7'ye bölünebilir olup olmadığını kontrol etmek \n",
        "için bir program yazın.\n",
        "\n",
        "İpucu: Mod operatörünü (%) kullanabilirsiniz."
      ]
    },
    {
      "cell_type": "code",
      "execution_count": 21,
      "metadata": {
        "id": "NGjvNwKx_Te7"
      },
      "outputs": [
        {
          "name": "stdout",
          "output_type": "stream",
          "text": [
            "Sayı 7ye tam bölünmez\n"
          ]
        }
      ],
      "source": [
        "# 1.Problemin Çözümünü Buraya Yazınız\n",
        "sayi = int(input('Sayi Giriniz :'))\n",
        "if sayi % 7 == 0:\n",
        "    print('Sayı 7ye tam bölünür')\n",
        "elif sayi % 7 != 0:\n",
        "    print('Sayı 7ye tam bölünmez')"
      ]
    },
    {
      "cell_type": "markdown",
      "metadata": {
        "id": "Kg3qiBAI_Te8"
      },
      "source": [
        "# Problem 2\n",
        "Kullanıcıdan vize ve final notu isteyin. Girilen vize notunun %40’ı ve \n",
        "girilen finalnotunun ise %60’ı alınarak yıl sonu not ortalaması hesaplanacaktır. \n",
        "\n",
        "Bu not ortalaması eğer 85 ve üzeri ise AA, \n",
        "\n",
        "75 ve 85 arasında ise BA, \n",
        "\n",
        "70 ve 75 arasında ise BB, \n",
        "\n",
        "65 ve 70 arasında ise CB,\n",
        "\n",
        "60 ve 65 arasında ise CC,\n",
        "\n",
        "55 ve 60 arasında ise DC,\n",
        "\n",
        "50 ve 55 arasında ise DD olarak hesaplanacaktır. \n",
        "\n",
        "Bu öğrencinin yıl sonu toplam notu 50’nin altında ise FF ile dersten kalacaktır. \n",
        "\n",
        "Ayrıca öğrencinin final notu 50’nin altında ise direkt FF ile kalacaktır."
      ]
    },
    {
      "cell_type": "code",
      "execution_count": 36,
      "metadata": {
        "id": "MXTtCxI1_Te8"
      },
      "outputs": [
        {
          "name": "stdout",
          "output_type": "stream",
          "text": [
            "FF aldınız, dersten kaldınız.\n",
            "Dersten CB ile geçtiniz.\n"
          ]
        }
      ],
      "source": [
        "# 2.Problemin Çözümünü Buraya Yazınız\n",
        "ortalama = ((sayiV * 0.4) +(sayiF * 0.6))\n",
        "\n",
        "sayiV = float(input('Vize Notunuzu Giriniz: '))\n",
        "\n",
        "sayiF = float(input('Final Notunuzu Giriniz: '))\n",
        "if sayiF < 50:\n",
        "    print('FF aldınız, dersten kaldınız.')\n",
        "\n",
        "if ortalama >= 85:\n",
        "    print('Dersten AA ile geçtiniz.')\n",
        "elif 75 <= ortalama < 85:\n",
        "    print('Dersten BA ile geçtiniz.')\n",
        "elif 70 <= ortalama < 75:\n",
        "    print('Dersten BB ile geçtiniz.')\n",
        "elif 65 <= ortalama < 70:\n",
        "    print('Dersten CB ile geçtiniz.')\n",
        "elif 60 <= ortalama < 65:\n",
        "    print('Dersten CC ile geçtiniz.')\n",
        "elif 55 <= ortalama < 60:\n",
        "    print('Dersten DC ile geçtiniz.')\n",
        "elif 50 <= ortalama < 55:\n",
        "    print('Dersten DD ile geçtiniz.')\n",
        "elif ortalama < 50:\n",
        "    print('Dersten FF aldınız, kaldınız.')"
      ]
    },
    {
      "cell_type": "markdown",
      "metadata": {
        "id": "tAoRYCTC_Te8"
      },
      "source": [
        "# Problem 3\n",
        "İki YetGenli Zirve'de karşılaşıyorlar. Birbirlerini tanımak için sorular soruyorlar. Birbirlerine yaşlarını soruyorlar. Akıllarına bir Python programı yazıp, yaşlarını ve isimlerini giriyorlar. Büyük olanın yaşını ekrana yazdıran programı yazıyorlar. Sende bu iki YetGenli'ye destek olmak ister misin?\n",
        "\n",
        "```\n",
        "Birinci YetGenlinin ismi: Ahmet\n",
        "Birinci YetGenlinin yaşı : 20\n",
        "İkinci YetGenlinin ismi: Mehmet\n",
        "İkinci YetGenlinin yaşı : 25\n",
        "Mehmet'in yaşı daha büyük ve yaşı 25'tir.\n",
        "```"
      ]
    },
    {
      "cell_type": "code",
      "execution_count": 39,
      "metadata": {
        "id": "bPjE8W0i_Te8"
      },
      "outputs": [
        {
          "name": "stdout",
          "output_type": "stream",
          "text": [
            "Her iki YetGenli de aynı yaşta ve yaşları 25\n",
            "Mehmet yaşı daha büyük ve yaşı 25.\n"
          ]
        }
      ],
      "source": [
        "# 3.Problemin Çözümünü Buraya Yazınız\n",
        "isim1 = input('İsminizi Giriniz:')\n",
        "yas1 = int(input(f'{isim1} Yetgenlinin Yaşı:'))\n",
        "\n",
        "isim2 = input('İsminizi Giriniz:')\n",
        "yas2 = int(input(f'{isim2} Yetgenlinin Yaşı:'))\n",
        "\n",
        "if yas1 > yas2:\n",
        "    buyukİsim = isim1\n",
        "    buyukYas = yas1\n",
        "elif yas2 > yas1:\n",
        "    buyukİsim = isim2\n",
        "    buyukYas = yas2\n",
        "else:\n",
        "    print(f'Her iki YetGenli de aynı yaşta ve yaşları {yas1}')\n",
        "\n",
        "print(f'{buyukİsim} yaşı daha büyük ve yaşı {buyukYas}.')\n",
        "\n"
      ]
    },
    {
      "cell_type": "markdown",
      "metadata": {
        "id": "zBVv8Tyg_Te9"
      },
      "source": [
        "# Problem 4\n",
        "Pandemi döneminde AVM'lerde ateş ölçümü yapılıyor. AVM'ye giren kişinin ateş ölçümü 37.5 derecenin altında ise girişe izin veriliyor. 37.5 derecenin üstünde ise girişe izin verilmiyor. AVM'ye girişe izin verilip verilmediğini ekrana yazdıran bir program yazın.\n",
        "\n",
        "Program sonunda şöyle bir çıktı elde etmelisiniz:\n",
        "\n",
        "```\n",
        "Ateşiniz 37.5 derece. AVM'ye girebilirsin! Maske takmayı unutma!\n",
        "Ateşiniz 37.6 derece. AVM'ye giremezsin! Hemen evine dön!\n",
        "```"
      ]
    },
    {
      "cell_type": "code",
      "execution_count": 3,
      "metadata": {
        "id": "TSAXs8et_Te9"
      },
      "outputs": [
        {
          "name": "stdout",
          "output_type": "stream",
          "text": [
            "Ateşiniz 36.0 derece. AVMye girebilirsin, maske takmayı unutma <3\n"
          ]
        }
      ],
      "source": [
        "# 4.Problemin Çözümünü Buraya Yazınız\n",
        "\n",
        "ates = float(input('Ateşinizi Giriniz (°C):'))\n",
        "\n",
        "if ates < 37.5:\n",
        "    print(f'Ateşiniz {ates} derece. AVMye girebilirsin, maske takmayı unutma <3')\n",
        "else:\n",
        "    print(f'Ateşiniz {ates} derece. AVMye giremezsin, hemen eve dön!')"
      ]
    },
    {
      "cell_type": "markdown",
      "metadata": {
        "id": "6AEkZrDt_Te9"
      },
      "source": [
        "# Problem 5\n",
        "YetGen bir spor kulübüyle sponsorluk anlaşması yapıyor. Kulüp, sponsorluk anlaşmasına göre her YetGen liderinin beden kitle indeksini hesaplamak istiyor. Spor kulübü, beden kitle indeksini hesaplamak için YetGen Jump Python liderlerinden Berkcan ve Ahmet'i arıyor. Berkcan ve Ahmet, kulübe yardımcı olmak için bir Python programı yazıyorlar. Sende bu iki YetGen liderine destek olmak ister misin?\n",
        "\n",
        "Kullanıcıdan alınan boy ve kilo değerlerine göre beden kitle indeksini hesaplayın ve şu kurallara göre ekrana şu yazıları yazdırın.\n",
        "\n",
        "\n",
        "Beden Kitle İndeksi, kişinin ağırlığının (kg olarak) boyunun karesine (m olarak) bölünmesiyle hesaplanır.\n",
        "\n",
        "\n",
        "```\n",
        " BKİ 18.5'un altındaysa -------> Zayıf\n",
        "\n",
        " BKİ 18.5 ile 25 arasındaysa ------> Normal\n",
        "\n",
        " BKİ 25 ile 30 arasındaysa --------> Fazla Kilolu\n",
        "\n",
        " BKİ 30'un üstündeyse -------------> Obez\n",
        "```\n",
        "\n"
      ]
    },
    {
      "cell_type": "code",
      "execution_count": 9,
      "metadata": {
        "id": "t-XPI_u0_Te-"
      },
      "outputs": [
        {
          "name": "stdout",
          "output_type": "stream",
          "text": [
            "Beden Kitle İndeksiniz: 0.01\n",
            "Durumunuz: Zayıf\n"
          ]
        }
      ],
      "source": [
        "# 5.Problemin Çözümünü Buraya Yazınız\n",
        "\n",
        "def bedenKitleİndeksi (boy,kilo):\n",
        "    bki = kilo / (boy ** 2)\n",
        "    return bki\n",
        "\n",
        "def bkiDurumu (bki):\n",
        "    if bki < 18.5:\n",
        "        return 'Zayıf'\n",
        "    elif 18.5 <= bki < 25:\n",
        "        return 'Normal'\n",
        "    elif 25 <= bki < 30:\n",
        "        return 'Fazla Kilolu'\n",
        "    else:\n",
        "        return 'Obez'\n",
        "\n",
        "boy = float(input('Boyunuzu m cinsinden giriniz:'))\n",
        "kilo = float(input('Kilonuzu kg cinsinden giriniz:'))\n",
        "\n",
        "bki = bedenKitleİndeksi (boy,kilo)\n",
        "durum = bkiDurumu (bki)\n",
        "\n",
        "print(f'Beden Kitle İndeksiniz: {bki:.2f}')\n",
        "print(f'Durumunuz: {durum}')"
      ]
    },
    {
      "cell_type": "markdown",
      "metadata": {
        "id": "oFsvQyaO_Te-"
      },
      "source": [
        "# Problem 6\n",
        "Kullanıcıdan isim, yaş ve eğitim bilgilerini isteyip ehliyet alabilme  durumunu kontrol ediniz. \n",
        "\n",
        "Ehliyet alma koşulu en az 18 yaşında ve eğitim durumu lise ya da üniversite olmalıdır. "
      ]
    },
    {
      "cell_type": "code",
      "execution_count": 12,
      "metadata": {
        "id": "Tu2mcgco_Te-"
      },
      "outputs": [
        {
          "name": "stdout",
          "output_type": "stream",
          "text": [
            "Ehliyet Alabilir <3\n"
          ]
        }
      ],
      "source": [
        "# 6.Problemin Çözümünü Buraya Yazınız\n",
        "\n",
        "isim = input('İsminizi Giriniz:')\n",
        "yas = int(input('Yaşınızı Giriniz:'))\n",
        "egitim = input('Eğitim Durumunuz Nedir? (lise/üniversite):')\n",
        "\n",
        "if yas >= 18 and egitim == 'lise' or egitim == 'üniversite':\n",
        "    print('Ehliyet Alabilir <3')\n",
        "else:\n",
        "    print('Ehliyet Alamaz.')"
      ]
    },
    {
      "cell_type": "markdown",
      "metadata": {
        "id": "eUkxVSAE_Te_"
      },
      "source": [
        "# Problem 7\n",
        "Bir yılın artık yıl olup olmadığını kontrol etmek için bir program yazın. \n",
        "Artık yıl kuralı:\n",
        "\n",
        "a) Eğer yılın son iki basamağı (00) ile bitmiyor ve yalnızca 4'e tam bölünüyorsa artık yıldır. Ya da, \n",
        "\n",
        "b) Eğer yıl 400'e tam bölünüyorsa artık yıldır.\n",
        "\n",
        "**Örneğin**\n",
        "```\n",
        "2017 artık yıl değildir.\n",
        "1900 artık yıl değildir\n",
        "2012 artık yıldır.\n",
        "2000 artık yıldır.\n",
        "```"
      ]
    },
    {
      "cell_type": "code",
      "execution_count": 18,
      "metadata": {
        "id": "4uWh8qUL_Te_"
      },
      "outputs": [
        {
          "ename": "NameError",
          "evalue": "name 'atikYilMi' is not defined",
          "output_type": "error",
          "traceback": [
            "\u001b[0;31m---------------------------------------------------------------------------\u001b[0m",
            "\u001b[0;31mNameError\u001b[0m                                 Traceback (most recent call last)",
            "Cell \u001b[0;32mIn[18], line 10\u001b[0m\n\u001b[1;32m      7\u001b[0m         \u001b[38;5;28mprint\u001b[39m(\u001b[38;5;124m'\u001b[39m\u001b[38;5;124mArtık Yıl Değildir\u001b[39m\u001b[38;5;124m'\u001b[39m)\n\u001b[1;32m      9\u001b[0m yil \u001b[38;5;241m=\u001b[39m \u001b[38;5;28mint\u001b[39m(\u001b[38;5;28minput\u001b[39m(\u001b[38;5;124m'\u001b[39m\u001b[38;5;124mBir yıl giriniz:\u001b[39m\u001b[38;5;124m'\u001b[39m))\n\u001b[0;32m---> 10\u001b[0m \u001b[38;5;28;01mif\u001b[39;00m \u001b[43matikYilMi\u001b[49m(yil):\n\u001b[1;32m     11\u001b[0m     \u001b[38;5;28mprint\u001b[39m(\u001b[38;5;124mf\u001b[39m\u001b[38;5;124m'\u001b[39m\u001b[38;5;132;01m{\u001b[39;00myil\u001b[38;5;132;01m}\u001b[39;00m\u001b[38;5;124m artık yıl.\u001b[39m\u001b[38;5;124m'\u001b[39m)\n\u001b[1;32m     12\u001b[0m \u001b[38;5;28;01melse\u001b[39;00m:\n",
            "\u001b[0;31mNameError\u001b[0m: name 'atikYilMi' is not defined"
          ]
        }
      ],
      "source": [
        "# 7.Problemin Çözümünü Buraya Yazınız\n",
        "\n",
        "def artikYilMi(yil):\n",
        "    if (yil % 4 == 0 and yil % 100 != 0) or (yil % 400 == 0):\n",
        "        print('Artık Yıl')\n",
        "    else:\n",
        "        print('Artık Yıl Değildir')\n",
        "\n",
        "yil = int(input('Bir yıl giriniz:'))\n",
        "if atikYilMi(yil):\n",
        "    print(f'{yil} artık yıl.')\n",
        "else:\n",
        "    print(f'{yil} artık yıl değildir.')"
      ]
    }
  ],
  "metadata": {
    "colab": {
      "provenance": []
    },
    "kernelspec": {
      "display_name": "Python 3.10.5 64-bit",
      "language": "python",
      "name": "python3"
    },
    "language_info": {
      "codemirror_mode": {
        "name": "ipython",
        "version": 3
      },
      "file_extension": ".py",
      "mimetype": "text/x-python",
      "name": "python",
      "nbconvert_exporter": "python",
      "pygments_lexer": "ipython3",
      "version": "3.9.6"
    },
    "orig_nbformat": 4,
    "vscode": {
      "interpreter": {
        "hash": "5026d2d6e7aaaaba093def813beadff083d8733e4a511af01735cbabd156995d"
      }
    }
  },
  "nbformat": 4,
  "nbformat_minor": 0
}
